{
  "nbformat": 4,
  "nbformat_minor": 0,
  "metadata": {
    "colab": {
      "name": "Netflix Content Generation",
      "provenance": [],
      "collapsed_sections": []
    },
    "kernelspec": {
      "name": "python3",
      "display_name": "Python 3"
    },
    "accelerator": "GPU"
  },
  "cells": [
    {
      "cell_type": "code",
      "metadata": {
        "id": "eLaWn7hsOMZi",
        "colab": {
          "base_uri": "https://localhost:8080/"
        },
        "outputId": "ef4915ad-a5d1-436c-d14b-ecd2c9217751"
      },
      "source": [
        "from google.colab import drive\n",
        "drive.mount('/content/drive')"
      ],
      "execution_count": null,
      "outputs": [
        {
          "output_type": "stream",
          "text": [
            "Mounted at /content/drive\n"
          ],
          "name": "stdout"
        }
      ]
    },
    {
      "cell_type": "code",
      "metadata": {
        "id": "KBkpRgBCBS2_",
        "colab": {
          "base_uri": "https://localhost:8080/"
        },
        "outputId": "2f67eac2-f3f5-41b4-8da9-dd009aff1fde"
      },
      "source": [
        "%tensorflow_version 1.x\n",
        "!pip install -q gpt-2-simple\n",
        "import gpt_2_simple as gpt2\n",
        "from datetime import datetime\n",
        "from google.colab import files\n",
        "import pandas as pd"
      ],
      "execution_count": null,
      "outputs": [
        {
          "output_type": "stream",
          "text": [
            "TensorFlow 1.x selected.\n",
            "  Building wheel for gpt-2-simple (setup.py) ... \u001b[?25l\u001b[?25hdone\n",
            "WARNING:tensorflow:\n",
            "The TensorFlow contrib module will not be included in TensorFlow 2.0.\n",
            "For more information, please see:\n",
            "  * https://github.com/tensorflow/community/blob/master/rfcs/20180907-contrib-sunset.md\n",
            "  * https://github.com/tensorflow/addons\n",
            "  * https://github.com/tensorflow/io (for I/O related ops)\n",
            "If you depend on functionality not listed there, please file an issue.\n",
            "\n"
          ],
          "name": "stdout"
        }
      ]
    },
    {
      "cell_type": "code",
      "metadata": {
        "colab": {
          "base_uri": "https://localhost:8080/"
        },
        "id": "Ljb3ficK03Ax",
        "outputId": "227fcb65-404e-4133-e11d-6ba620d9e961"
      },
      "source": [
        "!unzip \"/content/drive/MyDrive/ML Datasets/Netflix desciption.zip\""
      ],
      "execution_count": null,
      "outputs": [
        {
          "output_type": "stream",
          "text": [
            "Archive:  /content/drive/MyDrive/ML Datasets/Netflix desciption.zip\n",
            "  inflating: netflix_titles.csv      \n"
          ],
          "name": "stdout"
        }
      ]
    },
    {
      "cell_type": "code",
      "metadata": {
        "id": "G3y6a6d31I1W",
        "colab": {
          "base_uri": "https://localhost:8080/",
          "height": 677
        },
        "outputId": "4d4152fc-bb33-4f40-f891-2bbdf640f000"
      },
      "source": [
        "netflix_data = pd.read_csv('/content/netflix_titles.csv')\n",
        "netflix_data[['type','title','description']].head(20)"
      ],
      "execution_count": null,
      "outputs": [
        {
          "output_type": "execute_result",
          "data": {
            "text/html": [
              "<div>\n",
              "<style scoped>\n",
              "    .dataframe tbody tr th:only-of-type {\n",
              "        vertical-align: middle;\n",
              "    }\n",
              "\n",
              "    .dataframe tbody tr th {\n",
              "        vertical-align: top;\n",
              "    }\n",
              "\n",
              "    .dataframe thead th {\n",
              "        text-align: right;\n",
              "    }\n",
              "</style>\n",
              "<table border=\"1\" class=\"dataframe\">\n",
              "  <thead>\n",
              "    <tr style=\"text-align: right;\">\n",
              "      <th></th>\n",
              "      <th>type</th>\n",
              "      <th>title</th>\n",
              "      <th>description</th>\n",
              "    </tr>\n",
              "  </thead>\n",
              "  <tbody>\n",
              "    <tr>\n",
              "      <th>0</th>\n",
              "      <td>Movie</td>\n",
              "      <td>Norm of the North: King Sized Adventure</td>\n",
              "      <td>Before planning an awesome wedding for his gra...</td>\n",
              "    </tr>\n",
              "    <tr>\n",
              "      <th>1</th>\n",
              "      <td>Movie</td>\n",
              "      <td>Jandino: Whatever it Takes</td>\n",
              "      <td>Jandino Asporaat riffs on the challenges of ra...</td>\n",
              "    </tr>\n",
              "    <tr>\n",
              "      <th>2</th>\n",
              "      <td>TV Show</td>\n",
              "      <td>Transformers Prime</td>\n",
              "      <td>With the help of three human allies, the Autob...</td>\n",
              "    </tr>\n",
              "    <tr>\n",
              "      <th>3</th>\n",
              "      <td>TV Show</td>\n",
              "      <td>Transformers: Robots in Disguise</td>\n",
              "      <td>When a prison ship crash unleashes hundreds of...</td>\n",
              "    </tr>\n",
              "    <tr>\n",
              "      <th>4</th>\n",
              "      <td>Movie</td>\n",
              "      <td>#realityhigh</td>\n",
              "      <td>When nerdy high schooler Dani finally attracts...</td>\n",
              "    </tr>\n",
              "    <tr>\n",
              "      <th>5</th>\n",
              "      <td>TV Show</td>\n",
              "      <td>Apaches</td>\n",
              "      <td>A young journalist is forced into a life of cr...</td>\n",
              "    </tr>\n",
              "    <tr>\n",
              "      <th>6</th>\n",
              "      <td>Movie</td>\n",
              "      <td>Automata</td>\n",
              "      <td>In a dystopian future, an insurance adjuster f...</td>\n",
              "    </tr>\n",
              "    <tr>\n",
              "      <th>7</th>\n",
              "      <td>Movie</td>\n",
              "      <td>Fabrizio Copano: Solo pienso en mi</td>\n",
              "      <td>Fabrizio Copano takes audience participation t...</td>\n",
              "    </tr>\n",
              "    <tr>\n",
              "      <th>8</th>\n",
              "      <td>TV Show</td>\n",
              "      <td>Fire Chasers</td>\n",
              "      <td>As California's 2016 fire season rages, brave ...</td>\n",
              "    </tr>\n",
              "    <tr>\n",
              "      <th>9</th>\n",
              "      <td>Movie</td>\n",
              "      <td>Good People</td>\n",
              "      <td>A struggling couple can't believe their luck w...</td>\n",
              "    </tr>\n",
              "    <tr>\n",
              "      <th>10</th>\n",
              "      <td>Movie</td>\n",
              "      <td>Joaquín Reyes: Una y no más</td>\n",
              "      <td>Comedian and celebrity impersonator Joaquín Re...</td>\n",
              "    </tr>\n",
              "    <tr>\n",
              "      <th>11</th>\n",
              "      <td>Movie</td>\n",
              "      <td>Kidnapping Mr. Heineken</td>\n",
              "      <td>When beer magnate Alfred \"Freddy\" Heineken is ...</td>\n",
              "    </tr>\n",
              "    <tr>\n",
              "      <th>12</th>\n",
              "      <td>Movie</td>\n",
              "      <td>Krish Trish and Baltiboy</td>\n",
              "      <td>A team of minstrels, including a monkey, cat a...</td>\n",
              "    </tr>\n",
              "    <tr>\n",
              "      <th>13</th>\n",
              "      <td>Movie</td>\n",
              "      <td>Krish Trish and Baltiboy: Battle of Wits</td>\n",
              "      <td>An artisan is cheated of his payment, a lion o...</td>\n",
              "    </tr>\n",
              "    <tr>\n",
              "      <th>14</th>\n",
              "      <td>Movie</td>\n",
              "      <td>Krish Trish and Baltiboy: Best Friends Forever</td>\n",
              "      <td>A cat, monkey and donkey team up to narrate fo...</td>\n",
              "    </tr>\n",
              "    <tr>\n",
              "      <th>15</th>\n",
              "      <td>Movie</td>\n",
              "      <td>Krish Trish and Baltiboy: Comics of India</td>\n",
              "      <td>In three comic-strip-style tales, a boy tries ...</td>\n",
              "    </tr>\n",
              "    <tr>\n",
              "      <th>16</th>\n",
              "      <td>Movie</td>\n",
              "      <td>Krish Trish and Baltiboy: Oversmartness Never ...</td>\n",
              "      <td>A cat, monkey and donkey learn the consequence...</td>\n",
              "    </tr>\n",
              "    <tr>\n",
              "      <th>17</th>\n",
              "      <td>Movie</td>\n",
              "      <td>Krish Trish and Baltiboy: Part II</td>\n",
              "      <td>Animal minstrels narrate stories about a monke...</td>\n",
              "    </tr>\n",
              "    <tr>\n",
              "      <th>18</th>\n",
              "      <td>Movie</td>\n",
              "      <td>Krish Trish and Baltiboy: The Greatest Trick</td>\n",
              "      <td>The consequences of trickery are explored in s...</td>\n",
              "    </tr>\n",
              "    <tr>\n",
              "      <th>19</th>\n",
              "      <td>Movie</td>\n",
              "      <td>Love</td>\n",
              "      <td>A man in an unsatisfying marriage recalls the ...</td>\n",
              "    </tr>\n",
              "  </tbody>\n",
              "</table>\n",
              "</div>"
            ],
            "text/plain": [
              "       type  ...                                        description\n",
              "0     Movie  ...  Before planning an awesome wedding for his gra...\n",
              "1     Movie  ...  Jandino Asporaat riffs on the challenges of ra...\n",
              "2   TV Show  ...  With the help of three human allies, the Autob...\n",
              "3   TV Show  ...  When a prison ship crash unleashes hundreds of...\n",
              "4     Movie  ...  When nerdy high schooler Dani finally attracts...\n",
              "5   TV Show  ...  A young journalist is forced into a life of cr...\n",
              "6     Movie  ...  In a dystopian future, an insurance adjuster f...\n",
              "7     Movie  ...  Fabrizio Copano takes audience participation t...\n",
              "8   TV Show  ...  As California's 2016 fire season rages, brave ...\n",
              "9     Movie  ...  A struggling couple can't believe their luck w...\n",
              "10    Movie  ...  Comedian and celebrity impersonator Joaquín Re...\n",
              "11    Movie  ...  When beer magnate Alfred \"Freddy\" Heineken is ...\n",
              "12    Movie  ...  A team of minstrels, including a monkey, cat a...\n",
              "13    Movie  ...  An artisan is cheated of his payment, a lion o...\n",
              "14    Movie  ...  A cat, monkey and donkey team up to narrate fo...\n",
              "15    Movie  ...  In three comic-strip-style tales, a boy tries ...\n",
              "16    Movie  ...  A cat, monkey and donkey learn the consequence...\n",
              "17    Movie  ...  Animal minstrels narrate stories about a monke...\n",
              "18    Movie  ...  The consequences of trickery are explored in s...\n",
              "19    Movie  ...  A man in an unsatisfying marriage recalls the ...\n",
              "\n",
              "[20 rows x 3 columns]"
            ]
          },
          "metadata": {
            "tags": []
          },
          "execution_count": 6
        }
      ]
    },
    {
      "cell_type": "code",
      "metadata": {
        "id": "S_oJM-Wp1dp9"
      },
      "source": [
        "netflix_data['description_upd'] = netflix_data['description'].apply(lambda x: '<|startoftext|> ' + x + ' <|endoftext|>')"
      ],
      "execution_count": null,
      "outputs": []
    },
    {
      "cell_type": "code",
      "metadata": {
        "id": "CCQGDMGj1tEi"
      },
      "source": [
        "with open('netflix_descriptions.txt', mode='wt', encoding='utf-8') as myfile:\n",
        "    myfile.write('\\n\\n'.join(netflix_data.dropna(axis = 0)['description_upd'].tolist()))"
      ],
      "execution_count": null,
      "outputs": []
    },
    {
      "cell_type": "code",
      "metadata": {
        "id": "sUmTooTW3osf",
        "colab": {
          "base_uri": "https://localhost:8080/"
        },
        "outputId": "333c809c-0107-484f-9ce6-6472afd54a40"
      },
      "source": [
        "!nvidia-smi"
      ],
      "execution_count": null,
      "outputs": [
        {
          "output_type": "stream",
          "text": [
            "Tue Jan  5 16:43:14 2021       \n",
            "+-----------------------------------------------------------------------------+\n",
            "| NVIDIA-SMI 460.27.04    Driver Version: 418.67       CUDA Version: 10.1     |\n",
            "|-------------------------------+----------------------+----------------------+\n",
            "| GPU  Name        Persistence-M| Bus-Id        Disp.A | Volatile Uncorr. ECC |\n",
            "| Fan  Temp  Perf  Pwr:Usage/Cap|         Memory-Usage | GPU-Util  Compute M. |\n",
            "|                               |                      |               MIG M. |\n",
            "|===============================+======================+======================|\n",
            "|   0  Tesla P100-PCIE...  Off  | 00000000:00:04.0 Off |                    0 |\n",
            "| N/A   34C    P0    26W / 250W |      0MiB / 16280MiB |      0%      Default |\n",
            "|                               |                      |                 ERR! |\n",
            "+-------------------------------+----------------------+----------------------+\n",
            "                                                                               \n",
            "+-----------------------------------------------------------------------------+\n",
            "| Processes:                                                                  |\n",
            "|  GPU   GI   CI        PID   Type   Process name                  GPU Memory |\n",
            "|        ID   ID                                                   Usage      |\n",
            "|=============================================================================|\n",
            "|  No running processes found                                                 |\n",
            "+-----------------------------------------------------------------------------+\n"
          ],
          "name": "stdout"
        }
      ]
    },
    {
      "cell_type": "code",
      "metadata": {
        "id": "P8wSlgXoDPCR",
        "colab": {
          "base_uri": "https://localhost:8080/"
        },
        "outputId": "14d16815-9ea5-4f9b-93ad-87e31d31f969"
      },
      "source": [
        "gpt2.download_gpt2(model_name=\"355M\")"
      ],
      "execution_count": null,
      "outputs": [
        {
          "output_type": "stream",
          "text": [
            "Fetching checkpoint: 1.05Mit [00:00, 217Mit/s]                                                      \n",
            "Fetching encoder.json: 1.05Mit [00:00, 90.4Mit/s]                                                   \n",
            "Fetching hparams.json: 1.05Mit [00:00, 244Mit/s]                                                    \n",
            "Fetching model.ckpt.data-00000-of-00001: 1.42Git [00:07, 178Mit/s]                                  \n",
            "Fetching model.ckpt.index: 1.05Mit [00:00, 229Mit/s]                                                \n",
            "Fetching model.ckpt.meta: 1.05Mit [00:00, 96.8Mit/s]                                                \n",
            "Fetching vocab.bpe: 1.05Mit [00:00, 116Mit/s]                                                       \n"
          ],
          "name": "stderr"
        }
      ]
    },
    {
      "cell_type": "code",
      "metadata": {
        "id": "puq4iC6vUAHc",
        "colab": {
          "base_uri": "https://localhost:8080/"
        },
        "outputId": "9a0284d5-8657-4082-e7ba-1c5e880302b5"
      },
      "source": [
        "gpt2.mount_gdrive()"
      ],
      "execution_count": null,
      "outputs": [
        {
          "output_type": "stream",
          "text": [
            "Drive already mounted at /content/drive; to attempt to forcibly remount, call drive.mount(\"/content/drive\", force_remount=True).\n"
          ],
          "name": "stdout"
        }
      ]
    },
    {
      "cell_type": "code",
      "metadata": {
        "id": "6OFnPCLADfll"
      },
      "source": [
        "file_name = \"netflix_descriptions.txt\""
      ],
      "execution_count": null,
      "outputs": []
    },
    {
      "cell_type": "markdown",
      "metadata": {
        "id": "HeeSKtNWUedE"
      },
      "source": [
        "If your text file is larger than 10MB, it is recommended to upload that file to Google Drive first, then copy that file from Google Drive to the Colaboratory VM."
      ]
    },
    {
      "cell_type": "code",
      "metadata": {
        "id": "aeXshJM-Cuaf",
        "colab": {
          "base_uri": "https://localhost:8080/"
        },
        "outputId": "c0d2517f-c3d0-42df-8152-eb54538027da"
      },
      "source": [
        "sess = gpt2.start_tf_sess()\n",
        "\n",
        "gpt2.finetune(sess,\n",
        "              dataset=file_name,\n",
        "              model_name='355M',\n",
        "              steps=1500,\n",
        "              restore_from='fresh',\n",
        "              run_name='run4_netflix',\n",
        "              overwrite = True, \n",
        "              print_every=10,\n",
        "              sample_every=200,\n",
        "              learning_rate=0.00001,\n",
        "              save_every=500\n",
        "              \n",
        "              )"
      ],
      "execution_count": null,
      "outputs": [
        {
          "output_type": "stream",
          "text": [
            "WARNING:tensorflow:From /usr/local/lib/python3.6/dist-packages/gpt_2_simple/src/sample.py:17: where (from tensorflow.python.ops.array_ops) is deprecated and will be removed in a future version.\n",
            "Instructions for updating:\n",
            "Use tf.where in 2.0, which has the same broadcast rule as np.where\n",
            "WARNING:tensorflow:From /usr/local/lib/python3.6/dist-packages/gpt_2_simple/src/memory_saving_gradients.py:62: get_backward_walk_ops (from tensorflow.contrib.graph_editor.select) is deprecated and will be removed after 2019-06-06.\n",
            "Instructions for updating:\n",
            "Please use tensorflow.python.ops.op_selector.get_backward_walk_ops.\n",
            "Loading checkpoint models/355M/model.ckpt\n",
            "INFO:tensorflow:Restoring parameters from models/355M/model.ckpt\n"
          ],
          "name": "stdout"
        },
        {
          "output_type": "stream",
          "text": [
            "\r  0%|          | 0/1 [00:00<?, ?it/s]"
          ],
          "name": "stderr"
        },
        {
          "output_type": "stream",
          "text": [
            "Loading dataset...\n"
          ],
          "name": "stdout"
        },
        {
          "output_type": "stream",
          "text": [
            "100%|██████████| 1/1 [00:01<00:00,  1.12s/it]\n"
          ],
          "name": "stderr"
        },
        {
          "output_type": "stream",
          "text": [
            "dataset has 173277 tokens\n",
            "Training...\n",
            "[10 | 17.57] loss=2.30 avg=2.30\n",
            "[20 | 26.40] loss=2.30 avg=2.30\n",
            "[30 | 35.23] loss=2.33 avg=2.31\n",
            "[40 | 44.06] loss=2.08 avg=2.25\n",
            "[50 | 52.87] loss=2.11 avg=2.22\n",
            "[60 | 61.69] loss=2.26 avg=2.23\n",
            "[70 | 70.52] loss=2.12 avg=2.21\n",
            "[80 | 79.35] loss=2.14 avg=2.20\n",
            "[90 | 88.22] loss=2.17 avg=2.20\n",
            "[100 | 97.04] loss=2.21 avg=2.20\n",
            "[110 | 105.86] loss=2.30 avg=2.21\n",
            "[120 | 114.68] loss=2.07 avg=2.20\n",
            "[130 | 123.51] loss=2.15 avg=2.19\n",
            "[140 | 132.34] loss=2.02 avg=2.18\n",
            "[150 | 141.16] loss=2.10 avg=2.18\n",
            "[160 | 149.98] loss=2.26 avg=2.18\n",
            "[170 | 158.80] loss=2.14 avg=2.18\n",
            "[180 | 167.62] loss=2.07 avg=2.17\n",
            "[190 | 176.44] loss=2.07 avg=2.17\n",
            "[200 | 185.26] loss=1.96 avg=2.15\n",
            "======== SAMPLE 1 ========\n",
            " the history of American art history.\"\n",
            "\n",
            "\"The world is in the path of an ancient demon-summoning demon, who will stop at nothing to destroy this city and its inhabitants. After learning the secret of the city's origins, the heroes must travel across town and discover a story of hidden knowledge.\"\n",
            "\n",
            "\"An intelligent alien who was once human has left her body in San Diego, but has only been awoken after she is abducted and transported to a dangerous underground city. With little to no power and a lack of tools, she must use her strength to destroy San Diego's inhabitants, who are determined to stop her.\"\n",
            "\n",
            "\"Battles between humans and a mysterious alien presence threaten to destroy San Diego's residents as they attempt to survive in a city that is at once alien and familiar.\"\n",
            "\n",
            "\"Brett Ratner's film series centers on four young brothers – Michael, Matt, Travis and Mattie – as they explore the world of crime in Las Vegas and are torn between their moral and physical struggles. A new trailer sees them go back to high school.\"\n",
            "\n",
            "\"In this action-comedy, three brothers learn about their past in a classroom and are put through a series of life lessons as they deal with their growing relationships and their own personal demons in this adaptation of a novel.\"\n",
            "\n",
            "\"In this adaptation of Paul Auster's 1986 novel, a group of college kids are drawn into an unlikely friendship when they meet a young man whose strange powers force them to come together in a dangerous new partnership.\"\n",
            "\n",
            "\"An award-winning filmmaker returns to the world of his favorite TV character with an epic adventure in this sequel to 1997's popular movie series.\"\n",
            "\n",
            "\"In this comedic thriller, a team of ex-cop agents are pitted against an evil alien as they attempt to stop a criminal mastermind in the Pacific Rim set on a massive alien invasion. Starring Robert de Niro, Dwayne Johnson, Zach Galifianakis, John C. Reilly, Michelle Rodriguez, Ray Romano and Robert Downey Jr.\"\n",
            "\n",
            "\"After his parents get a new apartment, a wealthy and popular guy starts his life in Mumbai while spending a little time with his new wife. That's right, this guy just got his own apartment. The plot of this action-packed tale is a little less entertaining than its name says.\"\n",
            "\n",
            "\"Gone Girl is a big-screen adaptation of the 2014 movie of the same name, using fresh production techniques and all-new sound.\"\n",
            "\n",
            "\"'Bachelor,' 'Entourage,' 'Modern Family,' 'The Bachelorette' star Kevin Hart took to Twitter on Thursday to defend himself against the avalanche of criticism and accusations the series had received when it wrapped last year.\"\n",
            "\n",
            "\"This is not the first time that actor Kevin Hart has been accused of plagiarism. The Hollywood Reporter put out a post on Sept. 19, 2015, alleging that Hart copied some of his lines on his 2016 television show, entitled \"Kevin Hart's Stand-up Show.\" Hart responded to the accusation, saying, \"'I don't write. I don't even have a microphone,'\" he said.\"\n",
            "\n",
            "\"Two female students, Marnie and Yuzu are on a cross-country trip where they find a portal that goes to the past and past-life trips, but it won't return them to the present. Their adventures begin to unravel as they run into the same mysterious guy who once had feelings for them.\"\n",
            "\n",
            "\"As the war in Syria heats up, a Russian soldier makes his lone escape in an abandoned city and an American soldier leads his company into an ambush. But their mission in this drama won't be as simple as they imagine.\"\n",
            "\n",
            "\"Director James Cameron returns to the world of sci-fi in this reboot of the 1977 sci-fi classic The Abyss. The aliens are about to annihilate the Earth, and a group of survivors – led by three former astronauts – must band together to stop them.\"\n",
            "\n",
            "\"'Happiness is all around,'\" says a young man in this short documentary about happiness in modern-day America. The documentary traces the development of the American dream, exploring how wealth has shifted to the elite.\"\n",
            "\n",
            "\"A mysterious and sinister force threatens all that stands in the path of an enigmatic hero. With help from two friends, he travels across four continents, fighting battles over the fate of everything he's ever loved, starting with an encounter with his own son.\"\n",
            "\n",
            "\"A man whose daughter is missing leads a manhunt in a remote village, only to face his biggest fear when they discover the secret of the woman's life.\"\n",
            "\n",
            "\"A small-town dad who was once an international celebrity goes on an intense and bizarre quest to track down his son's killer.\"\n",
            "\n",
            "\"This documentary brings life to the famous British writer of short stories, who spent more than 50 years exploring the lives of ordinary people, from children to middle-aged widows.\"\n",
            "\n",
            "\"It's a dream come true for a boy on\n",
            "\n",
            "[210 | 213.33] loss=2.24 avg=2.16\n",
            "[220 | 222.15] loss=1.67 avg=2.13\n",
            "[230 | 230.98] loss=2.12 avg=2.13\n",
            "[240 | 239.79] loss=2.16 avg=2.13\n",
            "[250 | 248.61] loss=1.96 avg=2.13\n",
            "[260 | 257.43] loss=2.24 avg=2.13\n",
            "[270 | 266.27] loss=1.97 avg=2.13\n",
            "[280 | 275.10] loss=2.11 avg=2.12\n",
            "[290 | 283.93] loss=2.03 avg=2.12\n",
            "[300 | 292.75] loss=2.11 avg=2.12\n",
            "[310 | 301.57] loss=2.13 avg=2.12\n",
            "[320 | 310.39] loss=2.01 avg=2.12\n",
            "[330 | 319.22] loss=2.05 avg=2.11\n",
            "[340 | 328.04] loss=1.96 avg=2.11\n",
            "[350 | 336.86] loss=1.93 avg=2.10\n",
            "[360 | 345.69] loss=1.99 avg=2.10\n",
            "[370 | 354.51] loss=1.92 avg=2.09\n",
            "[380 | 363.33] loss=1.90 avg=2.09\n",
            "[390 | 372.15] loss=2.17 avg=2.09\n",
            "[400 | 380.97] loss=2.07 avg=2.09\n",
            "======== SAMPLE 1 ========\n",
            " school to prepare for a new academic year. <|endoftext|>\n",
            "\n",
            "<|startoftext|> As a police officer named James Moriarty embarks on a murder investigation, he'll need to investigate the personal lives and lives of several people -- and the lives of their loved ones to come up with a conclusion. <|endoftext|>\n",
            "\n",
            "<|startoftext|> When a young man arrives at a small, seaside town, he soon embarks on a terrifying mission to protect it. <|endoftext|>\n",
            "\n",
            "<|startoftext|> The crew of the Rovio robot-animation cartoon, whose characters play along with the cartoon's whims, is reunited for a surprise holiday in Hawaii. <|endoftext|>\n",
            "\n",
            "<|startoftext|> A young man embarks on a quest to discover the truth behind a strange curse and a terrifying new entity known as \"The Wither!\" <|endoftext|>\n",
            "\n",
            "<|startoftext|> Three children from different parts of the U.S. are living separate lives for years as they learn to navigate their shared world. <|endoftext|>\n",
            "\n",
            "<|startoftext|> A team of police officers is accused of murdering an innocent man during a raid on a house suspected of harboring a mafia boss. <|endoftext|>\n",
            "\n",
            "<|startoftext|> A small-town family, which is in danger of losing its home, moves from one property to another in search of a new place to call home. <|endoftext|>\n",
            "\n",
            "<|startoftext|> In an alternate universe, the future of a group of students is linked to a mysterious and sinister force known as the Wither. <|endoftext|>\n",
            "\n",
            "<|startoftext|> As the United States warms up and the winter months approach, the family patriarch's family becomes targets of the Wither. <|endoftext|>\n",
            "\n",
            "<|startoftext|> A young man who had been given the choice between marriage and military service to his future wife makes the choice he never wanted. <|endoftext|>\n",
            "\n",
            "<|startoftext|> A family of four, raised like royalty by their grandmother in Gander, on Newfoundland Island, must find a way to survive a vicious enemy. <|endoftext|>\n",
            "\n",
            "<|startoftext|> After an act of violence triggers his depression, a young journalist must fight for his innocence as he pursues the truth on a mission to expose corruption in his family's business. <|endoftext|>\n",
            "\n",
            "<|startoftext|> The family-focused story of a young woman's journey from poverty to independence as she tries to reconnect with her estranged sister is anchored on her struggles with poverty. <|endoftext|>\n",
            "\n",
            "<|startoftext|> From a humble birth, a group of friends grows to become one of the nation's largest sporting organizations and fight for the right to fight in World War II. <|endoftext|>\n",
            "\n",
            "<|startoftext|> A group of students try to discover the truth about a mysterious curse, and soon their friendship will change forever. <|endoftext|>\n",
            "\n",
            "<|startoftext|> When a young man is attacked and left for dead, a team of cops enlists the help of a cop buddy to track down the culprit and expose his evil scheme. <|endoftext|>\n",
            "\n",
            "<|startoftext|> As a young man and his family are swept up in a supernatural battle for control of a nearby forest, he finds his perspective on life shifting with the events surrounding him. <|endoftext|>\n",
            "\n",
            "<|startoftext|> When six of a family's companions fall in love and decide to return to the village to visit their estranged family, their new loved ones welcome them home. <|endoftext|>\n",
            "\n",
            "<|startoftext|> After their mother's death, Jocasta, who lives alone, becomes pregnant with Marceline, who's adopted into the Marches. But before they can celebrate, tragedy threatens to derail their happy family gathering. <|endoftext|>\n",
            "\n",
            "<|startoftext|> When a team of police officers are accused of murder, their investigation turns into a dangerous, stand-off-filled stand. Their search for the truth intensifies when they uncover an unknown force. <|endoftext|>\n",
            "\n",
            "<|startoftext|> Three middle-level teachers from a high school near an isolated mountain village are recruited by a well-connected businessman to investigate a conspiracy of the mountain village leader. <|endoftext|>\n",
            "\n",
            "<|startoftext|> After returning home to Japan, a married father-of-\n",
            "\n",
            "[410 | 406.89] loss=1.98 avg=2.09\n",
            "[420 | 415.71] loss=1.79 avg=2.08\n",
            "[430 | 424.53] loss=2.09 avg=2.08\n",
            "[440 | 433.35] loss=2.22 avg=2.08\n",
            "[450 | 442.18] loss=1.82 avg=2.07\n",
            "[460 | 451.01] loss=1.93 avg=2.07\n",
            "[470 | 459.83] loss=1.86 avg=2.07\n",
            "[480 | 468.67] loss=1.91 avg=2.06\n",
            "[490 | 477.49] loss=1.70 avg=2.05\n",
            "[500 | 486.30] loss=1.99 avg=2.05\n",
            "Saving checkpoint/run4_netflix/model-500\n",
            "[510 | 502.73] loss=1.73 avg=2.04\n",
            "[520 | 511.55] loss=1.95 avg=2.04\n",
            "[530 | 520.38] loss=1.62 avg=2.03\n",
            "[540 | 529.20] loss=2.14 avg=2.03\n",
            "[550 | 538.03] loss=1.86 avg=2.03\n",
            "[560 | 546.85] loss=1.96 avg=2.03\n",
            "[570 | 555.68] loss=1.65 avg=2.02\n",
            "[580 | 564.49] loss=1.79 avg=2.01\n",
            "[590 | 573.31] loss=1.91 avg=2.01\n",
            "[600 | 582.13] loss=2.01 avg=2.01\n",
            "======== SAMPLE 1 ========\n",
            " colonial crime drama. <|endoftext|>\n",
            "\n",
            "<|startoftext|> A journalist and an attorney in Mumbai discover a series of violent encounters in the wake of a recent road accident, leaving them haunted by the terrifying events on the other side of the car. <|endoftext|>\n",
            "\n",
            "<|startoftext|> A woman on her deathbed discovers that there exists another life beyond her. Years later, an ex-porn star finds her ex-husband's body to be her own and has him cremated. <|endoftext|>\n",
            "\n",
            "<|startoftext|> A man with cancer marries and builds a new life with his wife and son in a remote village in northern India. Now, he must navigate a series of trials amid an unrelenting onslaught of attacks. <|endoftext|>\n",
            "\n",
            "<|startoftext|> In the wake of a terrorist attack, an elite special forces unit must infiltrate an underground compound where Osama bin Laden is hiding. Based on a true story. <|endoftext|>\n",
            "\n",
            "<|startoftext|> Two college roommates share a camper and an apartment but soon run into roadblocks in their relationship. <|endoftext|>\n",
            "\n",
            "<|startoftext|> When a small village's mayor and her family flee a terrorist attack, their escape takes them to an old fortified town full of survivors. <|endoftext|>\n",
            "\n",
            "<|startoftext|> An American woman and an Indian man move from village to village in search of a better life, only to meet challenges along the way. <|endoftext|>\n",
            "\n",
            "<|startoftext|> After being falsely accused of murder, a high-flying soccer professional must return to his small Connecticut hometown, where he faces the law again. <|endoftext|>\n",
            "\n",
            "<|startoftext|> A young woman is accused of kidnapping and imprisoned, but when a ransom is paid, she is freed and is freed. Now she must unravel the case she never left behind. <|endoftext|>\n",
            "\n",
            "<|startoftext|> A talented young dancer is forced to use her dance moves on those around her to avoid being accused of sexual assault. <|endoftext|>\n",
            "\n",
            "<|startoftext|> During his time as an intelligence agent in the USSR, young Soviet spy and ace spymaster Samir Tugune must overcome a deep mistrust between his country and the West. <|endoftext|>\n",
            "\n",
            "<|startoftext|> One man's obsession with catching and killing a criminal syndicate becomes an unshakeable obsession for this documentary. The other man tries to capture him and a woman gets involved. <|endoftext|>\n",
            "\n",
            "<|startoftext|> A father and father-in-law find themselves at the center of a murder mystery when a woman is murdered and her father suspects his killer is his illegitimate son. <|endoftext|>\n",
            "\n",
            "<|startoftext|> In an alien city in the year 2154, a group of men, women and children are forced to work together as their jobs are determined in the order in which they are born. <|endoftext|>\n",
            "\n",
            "<|startoftext|> When a young woman discovers she may have some sort of connection to a dead brother, she and a small group of friends prepare in order to find out what the killer may have been. <|endoftext|>\n",
            "\n",
            "<|startoftext|> After a man's father dies, his family goes through the grief of his passing and his son follows, seeking out any records showing their father's involvement. <|endoftext|>\n",
            "\n",
            "<|startoftext|> After witnessing a suicide near a friend's place, a young man sets out for that same location, only to find that it has been staged. <|endoftext|>\n",
            "\n",
            "<|startoftext|> A troubled teenager joins a cult that promises eternal life, after which he begins to question the beliefs he was raised to hold dear. <|endoftext|>\n",
            "\n",
            "<|startoftext|> A young man who's been living with a relative for a long time starts to suspect his friend may have met his death from a drug overdose. <|endoftext|>\n",
            "\n",
            "<|startoftext|> A young filmmaker leaves Los Angeles to follow his dream of creating a documentary but soon finds himself on the road to meeting the filmmaker himself. <|endoftext|>\n",
            "\n",
            "<|startoftext|> A mother and her young daughter travel between India and Bangladesh taking shelter in a religious school which has become a hub of extremism in the country. <|endoftext|>\n",
            "\n",
            "<|startoftext|> A young man travels back in time to 18\n",
            "\n",
            "[610 | 607.31] loss=1.59 avg=2.00\n",
            "[620 | 616.13] loss=2.00 avg=2.00\n",
            "[630 | 624.94] loss=2.03 avg=2.00\n",
            "[640 | 633.77] loss=1.96 avg=2.00\n",
            "[650 | 642.58] loss=1.67 avg=1.99\n",
            "[660 | 651.40] loss=1.53 avg=1.98\n",
            "[670 | 660.22] loss=1.91 avg=1.98\n",
            "[680 | 669.03] loss=1.84 avg=1.98\n",
            "[690 | 677.85] loss=2.01 avg=1.98\n",
            "[700 | 686.67] loss=1.86 avg=1.98\n",
            "[710 | 695.49] loss=1.64 avg=1.97\n",
            "[720 | 704.32] loss=2.01 avg=1.97\n",
            "[730 | 713.16] loss=1.83 avg=1.97\n",
            "[740 | 721.98] loss=1.95 avg=1.97\n",
            "[750 | 730.79] loss=1.64 avg=1.96\n",
            "[760 | 739.61] loss=1.65 avg=1.96\n",
            "[770 | 748.44] loss=1.97 avg=1.96\n",
            "[780 | 757.26] loss=1.72 avg=1.95\n",
            "[790 | 766.09] loss=2.10 avg=1.96\n",
            "[800 | 774.93] loss=1.57 avg=1.95\n",
            "======== SAMPLE 1 ========\n",
            "ets\n",
            "\n",
            "In 1930s London, a clampdown on witch-burning is needed to eradicate an evil cult. But even the brutal police chief has a hard time standing up to corrupt Mayor Walden. <|endoftext|>\n",
            "\n",
            "As her boyfriend's family moves from town to town, a young woman trying to preserve their ancient traditions faces unexpected hurdles. <|endoftext|>\n",
            "\n",
            "A group of Filipino fishermen who had their boats sunk off the southern Philippines find one another after years of isolation in Canada. <|endoftext|>\n",
            "\n",
            "In the wake of her husband's death, Mary sets off on a six-month honeymoon with a former lover while trying to hold onto the memories of their two-day fall in love. <|endoftext|>\n",
            "\n",
            "When her son is torn from her as she's about to marry an unknown man, a wife-to-be struggles to survive after a brief marriage to a man of higher character. <|endoftext|>\n",
            "\n",
            "A young lawyer travels back in time to present a defence for a killer whose crimes he is accused of causing years ago. Based on a true story. <|endoftext|>\n",
            "\n",
            "After a tragic earthquake, the life of student Anju begins to unravel… in this romantic comedy based on a true story. <|endoftext|>\n",
            "\n",
            "Laugh-track queen and rapper Ja Rule takes his stand-up show to New York City, Los Angeles, Toronto and Montreal for a crowd of passionate fans who come prepared to go big, big in the dance floor. <|endoftext|>\n",
            "\n",
            "An older woman and her eight kids live a nomadic, nomadic lifestyle as she tries to raise her four young children on limited budget without a steady source of income. <|endoftext|>\n",
            "\n",
            "Walking in on her estranged dad while he's asleep, a college student decides to confront an entrenched system in her suburban hometown. <|endoftext|>\n",
            "\n",
            "A couple who move to Las Vegas at age 20 eventually become entangled in the underground world of the casino industry and must choose between family obligations and their own entertainment needs. <|endoftext|>\n",
            "\n",
            "A new sheriff steps into their old office, but not without knocking things up a notch – with a visit from his girlfriend's ex-boyfriend. <|endoftext|>\n",
            "\n",
            "When she's diagnosed with cancer, a woman's life in a distant village is dramatically disrupted when she's hired to help a woman with a rare, incurable disease. <|endoftext|>\n",
            "\n",
            "The story of a boy's first love and an ancient myth whose relevance continues to shock as he fights the forces that want the man he loves to marry a younger woman. <|endoftext|>\n",
            "\n",
            "A father's desire to bring up the orphaned son he loves sets in motion a terrible tragedy that leaves a son with no choice but to fight for his father's right to raise him. <|endoftext|>\n",
            "\n",
            "Three women from different walks of life confront the challenges and temptations of their different romantic futures in this modern-day psychological thriller. <|endoftext|>\n",
            "\n",
            "A retired British policeman returns to his native Italy to help his long-disposed former wife settle their family's controversial split – and finds the family he never knew he longed for. <|endoftext|>\n",
            "\n",
            "A young man moves to a small city in South America and grows up into a successful businessman and hip-hop artist. But as his career takes off, he has to contend with an older version of himself. <|endoftext|>\n",
            "\n",
            "Two students studying for the same exam fall for one another and struggle to overcome conflicting, deeply held beliefs about themselves. <|endoftext|>\n",
            "\n",
            "Cecilia is diagnosed with advanced breast cancer and faces a grueling treatment schedule, but she fights on despite physical and emotional obstacles. <|endoftext|>\n",
            "\n",
            "A young man in India journeys to America, where he encounters a new woman and takes the first step toward true love. <|endoftext|>\n",
            "\n",
            "A man whose mother fell seriously ill and died years ago encounters the strength to embark on a new, brave adventure, even if it means breaking a few hearts. <|endoftext|>\n",
            "\n",
            "A couple who has two sons on the cusp of greatness find that one is already a star and the other is destined to be great, but each man searches for his own path. <|endoftext|>\n",
            "\n",
            "\"I have two daughters, and one of them is gay,\" author and journalist Dan Savage once said. \"Why doesn't anyone ever tell him that?!\" <|endoftext|>\n",
            "\n",
            "A young man is struggling to adjust to a second chance after being released from an institution because he caused too much pain within the correctional system. <|endoftext|>\n",
            "\n",
            "[810 | 800.65] loss=1.90 avg=1.95\n",
            "[820 | 809.47] loss=1.73 avg=1.94\n",
            "[830 | 818.29] loss=1.76 avg=1.94\n",
            "[840 | 827.12] loss=1.92 avg=1.94\n",
            "[850 | 835.94] loss=1.53 avg=1.93\n",
            "[860 | 844.77] loss=1.55 avg=1.93\n",
            "[870 | 853.59] loss=1.87 avg=1.93\n",
            "[880 | 862.40] loss=1.62 avg=1.92\n",
            "[890 | 871.22] loss=1.54 avg=1.91\n",
            "[900 | 880.04] loss=1.69 avg=1.91\n",
            "[910 | 888.86] loss=1.62 avg=1.91\n",
            "[920 | 897.68] loss=1.63 avg=1.90\n",
            "[930 | 906.49] loss=1.60 avg=1.90\n",
            "[940 | 915.31] loss=1.49 avg=1.89\n",
            "[950 | 924.13] loss=1.48 avg=1.88\n",
            "[960 | 932.96] loss=1.80 avg=1.88\n",
            "[970 | 941.78] loss=1.83 avg=1.88\n",
            "[980 | 950.60] loss=1.47 avg=1.87\n",
            "[990 | 959.42] loss=1.72 avg=1.87\n",
            "[1000 | 968.24] loss=1.52 avg=1.87\n",
            "Saving checkpoint/run4_netflix/model-1000\n",
            "WARNING:tensorflow:From /tensorflow-1.15.2/python3.6/tensorflow_core/python/training/saver.py:963: remove_checkpoint (from tensorflow.python.training.checkpoint_management) is deprecated and will be removed in a future version.\n",
            "Instructions for updating:\n",
            "Use standard file APIs to delete files with this prefix.\n",
            "======== SAMPLE 1 ========\n",
            "text|> After her boyfriend is murdered, a young man sets out to find justice and a lasting connection to discover once and for all how to solve the mystery of his killer. <|endoftext|>\n",
            "\n",
            "<|startoftext|> A man who accidentally turns a giant octopus into a woman takes over his wife's care while he tries to unravel an elaborate conspiracy and discover who set her to be turned into a woman. <|endoftext|>\n",
            "\n",
            "<|startoftext|> This moving documentary explores the stories of two women who, at different phases of their lives, decided they were men but remained female. <|endoftext|>\n",
            "\n",
            "<|startoftext|> This unflinching look at American culture reveals disturbing realities about drug abuse, suicide attempts and the ways our culture shapes the future. <|endoftext|>\n",
            "\n",
            "<|startoftext|> This documentary explores how the nuclear devastation of Hiroshima devastated the Japanese people and what has happened to those left behind. <|endoftext|>\n",
            "\n",
            "<|startoftext|> When she returns to the city where she met her future husband, Lina returns as a liberated woman whose priorities suddenly change amid growing corruption. <|endoftext|>\n",
            "\n",
            "<|startoftext|> On the streets of Budapest, a woman discovers a mysterious drug that will change her body so that she will accept every man as she is. <|endoftext|>\n",
            "\n",
            "<|startoftext|> The love story of a man who cannot find love becomes a father's ultimate goal when he learns of his wife's infidelity. <|endoftext|>\n",
            "\n",
            "<|startoftext|> In a future where drugs and sex have become mainstream entertainment, a young man is brought to justice for his role in a notorious murder. <|endoftext|>\n",
            "\n",
            "<|startoftext|> A couple from a poor family struggles financially, relationships and all forms of social acceptance in modern Mumbai. <|endoftext|>\n",
            "\n",
            "<|startoftext|> A gifted soccer player who suffers a brain aneurysm forms bonds with his friends through a shared joy, but one of them ditches him for a hopeless journey. <|endoftext|>\n",
            "\n",
            "<|startoftext|> When a young woman returns from war and finds herself unable to leave her home, her former boyfriend finds a job for her that changes her world. <|endoftext|>\n",
            "\n",
            "<|startoftext|> In an era without cell phones, a man must fend for himself without the help of his friends and he must also learn to navigate the world around him. <|endoftext|>\n",
            "\n",
            "<|startoftext|> When a wealthy and powerful man dies in mysterious circumstances, his wealth and his position are shattered for good. But the new owner of the fortune has his own ways. <|endoftext|>\n",
            "\n",
            "<|startoftext|> A young man travels to Delhi, where he encounters a woman who intrigues him and uncovers a conspiracy of underworld proportions. <|endoftext|>\n",
            "\n",
            "<|startoftext|> An English teacher and his Hindu girlfriend struggle with love, family and the new restrictions of India after a couple marries in the United Kingdom. <|endoftext|>\n",
            "\n",
            "<|startoftext|> When an uneventful life unravels, a man leaves his rural village to seek employment in a major city and meets a different type of woman as the result. <|endoftext|>\n",
            "\n",
            "<|startoftext|> When a journalist moves to Mumbai as a correspondent, he faces an unexpected dilemma when he discovers his roommate's girlfriend's true form, The Form. <|endoftext|>\n",
            "\n",
            "<|startoftext|> Two brothers – one handsome, the other asexual – start going through the motions of sex at an early age, until one of them hits rock bottom and commits suicide. <|endoftext|>\n",
            "\n",
            "<|startoftext|> A father and his two sons – a brave boy who fights for his beliefs during a conflict in Burma and an ordinary boy who resists everything his mother stands for – find love and adventure on the other side of the war. <|endoftext|>\n",
            "\n",
            "<|startoftext|> Two siblings who find a mysterious, yet harmless bottle of magic ink turn to their father for help after having trouble communicating with his \"ghostwriter\". <|endoftext|>\n",
            "\n",
            "<|startoftext|> A young filmmaker discovers that his former flame – and a woman he is about to fall for – is in actuality a powerful magical creature. <|endoftext|>\n",
            "\n",
            "<|startoftext|> A former student of the poet Ramdev must now navigate the controversies surrounding his once-\n",
            "\n",
            "[1010 | 1002.55] loss=1.76 avg=1.86\n",
            "[1020 | 1011.37] loss=1.57 avg=1.86\n",
            "[1030 | 1020.23] loss=1.39 avg=1.85\n",
            "[1040 | 1029.06] loss=1.83 avg=1.85\n",
            "[1050 | 1037.87] loss=2.11 avg=1.86\n",
            "[1060 | 1046.69] loss=1.47 avg=1.85\n",
            "[1070 | 1055.51] loss=1.34 avg=1.84\n",
            "[1080 | 1064.33] loss=1.40 avg=1.84\n",
            "[1090 | 1073.15] loss=1.50 avg=1.83\n",
            "[1100 | 1081.98] loss=1.45 avg=1.82\n",
            "[1110 | 1090.80] loss=1.45 avg=1.82\n",
            "[1120 | 1099.61] loss=1.53 avg=1.82\n",
            "[1130 | 1108.43] loss=1.38 avg=1.81\n",
            "[1140 | 1117.26] loss=1.23 avg=1.80\n",
            "[1150 | 1126.09] loss=1.14 avg=1.79\n",
            "[1160 | 1134.90] loss=1.34 avg=1.78\n",
            "[1170 | 1143.72] loss=1.27 avg=1.78\n",
            "[1180 | 1152.53] loss=1.30 avg=1.77\n",
            "[1190 | 1161.36] loss=1.67 avg=1.77\n",
            "[1200 | 1170.18] loss=1.53 avg=1.76\n",
            "======== SAMPLE 1 ========\n",
            "oftext|> The family of a man executed for the murder of a high-ranking police official have trouble believing his words at the time that he only wanted revenge. <|endoftext|>\n",
            "\n",
            "<|startoftext|> After living a double life as a man, a woman and an adult, a woman arrives at a Canadian pageant to win a crown but finds she should instead choose a dress. <|endoftext|>\n",
            "\n",
            "<|startoftext|> When he loses his job, a factory robot operator launches a mission to help more robots find it – and must face his personal struggles on his own. <|endoftext|>\n",
            "\n",
            "<|startoftext|> Two teenagers who go to different schools form an unlikely friendship, and one has it all planned. <|endoftext|>\n",
            "\n",
            "<|startoftext|> A young woman whose marriage is in disarray is inspired to seek the love of her life when her mother dies the next day. <|endoftext|>\n",
            "\n",
            "<|startoftext|> When a college student's death leads to a dramatic shift in his school's culture, the new dean risks his career to force a fresh approach. <|endoftext|>\n",
            "\n",
            "<|startoftext|> A wealthy, powerful film producer’s young grandson begins to develop a passion for acting after seeing it as a small matter at an adult's hands. <|endoftext|>\n",
            "\n",
            "<|startoftext|> After a brutal crime against his family, a man must abandon all but purer forms of love and seek revenge against his viciously domineering father. <|endoftext|>\n",
            "\n",
            "<|startoftext|> An elderly war veteran returns home to his Kansas ranch, where he meets an attractive young woman who inspires him to fight for equality. <|endoftext|>\n",
            "\n",
            "<|startoftext|> When her husband has an affair, a mother’s rage escalates when her own daughter gets married during a political crisis. <|endoftext|>\n",
            "\n",
            "<|startoftext|> A wealthy New Yorker team up with four friends to plan an elaborate terrorist attack during an event featuring rock'n'roll. <|endoftext|>\n",
            "\n",
            "<|startoftext|> A college professor’s relationship with his girlfriend is rocked by events of the next day that point to sex as the culprit. <|endoftext|>\n",
            "\n",
            "<|startoftext|> Seeking to bring peace to the Korean Peninsula, former U.S. Secretary of Defense Donald Rumsfeld leaves behind a mission – and a legacy. <|endoftext|>\n",
            "\n",
            "<|startoftext|> In this sequel to the hit \"Fifty Shades of Grey,\" Christiane meets Hugh-Ellis, who wants to be his wife. But they've got differences about sex. <|endoftext|>\n",
            "\n",
            "<|startoftext|> At an interracial love triangle trial and hearing, a black couple's love story intersects with the story of another love story. <|endoftext|>\n",
            "\n",
            "<|startoftext|> A group of friends and a journalist set out to explore some big-picture mysteries, but the questions drag on too long and they get lost in the chaos. <|endoftext|>\n",
            "\n",
            "<|startoftext|> When their high-society life threatens when an all-male group matures into a real social club, a sudden and drastic change in their community’s attitude. <|endoftext|>\n",
            "\n",
            "<|startoftext|> After her daughter is raped, a mother struggles to cope with the trauma and try to heal her own family despite all kinds of opposition. <|endoftext|>\n",
            "\n",
            "<|startoftext|> A divorced former accountant tries to rebuild his life with a group of unlikely friends when he returns from exile with visions of past infidelities. <|endoftext|>\n",
            "\n",
            "<|startoftext|> When his ex-wife moves in next door, a shaken Brian tries to keep his ex's friendship alive by doing odd jobs for her – but it soon becomes a full-blown nightmare. <|endoftext|>\n",
            "\n",
            "<|startoftext|> When a group of men from a small town travel to Tehran, they're surprised to find a repressive, conservative government that's trying to shutter all literature critical of the government. <|endoftext|>\n",
            "\n",
            "<|startoftext|> When a beautiful young widow leaves her small village for the big city, her future seems bright – until it doesn't. <|endoftext|>\n",
            "\n",
            "<|startoftext|> A man whose wife is in terminal labor has a vision in which she tells him that her rapist will help her get\n",
            "\n",
            "[1210 | 1195.46] loss=1.36 avg=1.76\n",
            "[1220 | 1204.28] loss=1.52 avg=1.76\n",
            "[1230 | 1213.10] loss=1.36 avg=1.75\n",
            "[1240 | 1221.92] loss=1.08 avg=1.74\n",
            "[1250 | 1230.74] loss=1.41 avg=1.74\n",
            "[1260 | 1239.57] loss=1.75 avg=1.74\n",
            "[1270 | 1248.40] loss=1.49 avg=1.73\n",
            "[1280 | 1257.21] loss=1.52 avg=1.73\n",
            "[1290 | 1266.03] loss=1.31 avg=1.72\n",
            "[1300 | 1274.85] loss=1.21 avg=1.72\n",
            "[1310 | 1283.67] loss=1.21 avg=1.71\n",
            "[1320 | 1292.49] loss=1.36 avg=1.71\n",
            "[1330 | 1301.31] loss=1.44 avg=1.70\n",
            "[1340 | 1310.12] loss=1.34 avg=1.70\n",
            "[1350 | 1318.94] loss=1.26 avg=1.69\n",
            "[1360 | 1327.78] loss=1.59 avg=1.69\n",
            "[1370 | 1336.63] loss=0.94 avg=1.68\n",
            "[1380 | 1345.44] loss=1.85 avg=1.68\n",
            "[1390 | 1354.26] loss=1.45 avg=1.68\n",
            "[1400 | 1363.09] loss=1.39 avg=1.67\n",
            "======== SAMPLE 1 ========\n",
            " this achhola (literally: child) of King Pacha, and his quest for the crown during the Mughal era. <|endoftext|>\n",
            "\n",
            "<|startoftext|> An actor and a woman trying to break into the acting business fall in love, despite cultural taboos on female infidelity. <|endoftext|>\n",
            "\n",
            "<|startoftext|> In need of cash to help his family during periods of economic hardship, a poor man begins receiving threatening letters. <|endoftext|>\n",
            "\n",
            "<|startoftext|> The director of this film examines how film and television have changed his daily life over the past 50 years. <|endoftext|>\n",
            "\n",
            "<|startoftext|> In 1950s Germany, young Edna is haunted by a frightening and intrusive dream, and must overcome her reservations to save a journalist in peril. <|endoftext|>\n",
            "\n",
            "<|startoftext|> Despite the pressures of her busy marriage, Jodie sets her sights on a life of independent living and is captivated by a new potential suitor. <|endoftext|>\n",
            "\n",
            "<|startoftext|> After a young woman commits suicide after being wrongly accused of murder, a psychiatrist attempts to reconstruct her life and learns new insights into trauma and mental illness. <|endoftext|>\n",
            "\n",
            "<|startoftext|> This documentary explores how artificial intelligence is advancing our ability to detect terrorism, improve national security and detect cybercrime. <|endoftext|>\n",
            "\n",
            "<|startoftext|> Two young men fall in love and become embroiled in a clandestine underground network of human trafficking that targets women from different backgrounds. <|endoftext|>\n",
            "\n",
            "<|startoftext|> Set on a barren volcanic island, 2011 marked a pivotal year in the 20-year career of Spanish director Alfonso Cuarón. <|endoftext|>\n",
            "\n",
            "<|startoftext|> This documentary follows the journey of the last living hunter and only surviving member of the Soviet Union on the isolated island of Arkalym. <|endoftext|>\n",
            "\n",
            "<|startoftext|> A group of teenagers forms an unexpected bond in a tiny apartment and struggle for survival against powerful supernatural forces. <|endoftext|>\n",
            "\n",
            "<|startoftext|> A young woman tries to escape her marriage to a wealthy businessman while traveling with her father to escape him from a rival politician. <|endoftext|>\n",
            "\n",
            "<|startoftext|> Despite political divisions and fierce battles, an army of mostly-human children and their monstrous canine human guardian seek refuge in the Olympic stadium. <|endoftext|>\n",
            "\n",
            "<|startoftext|> A new student group at a fancy new school for girls that's out of fashion for a while becomes a cultural phenomenon when two male high-school chums realize they are actually sisters. <|endoftext|>\n",
            "\n",
            "<|startoftext|> While vacationing at a remote mountain village in Italy, a man falls for his stepmother and ends up in an all-out battle between love and lust with a deadly lethal cycle. <|endoftext|>\n",
            "\n",
            "<|startoftext|> Three brothers in their mid-20s plan a crime spree when their maternal grandmother dies of a mysterious ailment. But the real threat may come within 100 miles. <|endoftext|>\n",
            "\n",
            "<|startoftext|> A young man embarks on a quest to avenge his murdered dad in this thriller inspired by true events. <|endoftext|>\n",
            "\n",
            "<|startoftext|> After a woman is brutally gang-raped outside a nightclub, 25-year-old Jyoti is devastated and on a desperate quest to save her. Based on a true story. <|endoftext|>\n",
            "\n",
            "<|startoftext|> A man and woman who have a shared early history are forced to confront the fact that they’re both liars – as evidenced by their DNA. <|endoftext|>\n",
            "\n",
            "<|startoftext|> While visiting his father in Maine, a young man’s dream of working as a taxi driver emerges, sparking confusion among his friends. <|endoftext|>\n",
            "\n",
            "<|startoftext|> When a teenage boy heads to a Christian middle school to visit his dead father, trouble arises when two Christian teenagers enter the boy’s life. <|endoftext|>\n",
            "\n",
            "<|startoftext|> Five teens – four male and three female – live out their teenage years in different buildings and experience intense rivalries. <|endoftext|>\n",
            "\n",
            "<|startoftext|> A man is accused of murdering his pregnant wife and leaves a trail of evidence in his wake as\n",
            "\n",
            "[1410 | 1388.34] loss=1.12 avg=1.67\n",
            "[1420 | 1397.16] loss=1.35 avg=1.66\n",
            "[1430 | 1405.98] loss=1.22 avg=1.66\n",
            "[1440 | 1414.81] loss=1.46 avg=1.66\n",
            "[1450 | 1423.62] loss=1.02 avg=1.65\n",
            "[1460 | 1432.44] loss=1.02 avg=1.64\n",
            "[1470 | 1441.25] loss=1.27 avg=1.63\n",
            "[1480 | 1450.07] loss=1.19 avg=1.63\n",
            "[1490 | 1458.88] loss=0.96 avg=1.62\n",
            "[1500 | 1467.69] loss=1.18 avg=1.61\n",
            "Saving checkpoint/run4_netflix/model-1500\n"
          ],
          "name": "stdout"
        }
      ]
    },
    {
      "cell_type": "markdown",
      "metadata": {
        "id": "IXSuTNERaw6K"
      },
      "source": [
        "After the model is trained, you can copy the checkpoint folder to your own Google Drive.\n",
        "\n",
        "If you want to download it to your personal computer, it's strongly recommended you copy it there first, then download from Google Drive. The checkpoint folder is copied as a `.rar` compressed file; you can download it and uncompress it locally."
      ]
    },
    {
      "cell_type": "code",
      "metadata": {
        "id": "VHdTL8NDbAh3"
      },
      "source": [
        "gpt2.copy_checkpoint_to_gdrive(run_name='run4_netflix')"
      ],
      "execution_count": null,
      "outputs": []
    },
    {
      "cell_type": "markdown",
      "metadata": {
        "id": "qQJgV_b4bmzd"
      },
      "source": [
        "You're done! Feel free to go to the **Generate Text From The Trained Model** section to generate text based on your retrained model."
      ]
    },
    {
      "cell_type": "markdown",
      "metadata": {
        "id": "pel-uBULXO2L"
      },
      "source": [
        "## Load a Trained Model Checkpoint\n",
        "\n",
        "Running the next cell will copy the `.rar` checkpoint file from your Google Drive into the Colaboratory VM."
      ]
    },
    {
      "cell_type": "code",
      "metadata": {
        "id": "DCcx5u7sbPTD"
      },
      "source": [
        "gpt2.copy_checkpoint_from_gdrive(run_name='run4_netflix')"
      ],
      "execution_count": null,
      "outputs": []
    },
    {
      "cell_type": "markdown",
      "metadata": {
        "id": "RTa6zf3e_9gV"
      },
      "source": [
        "The next cell will allow you to load the retrained model checkpoint + metadata necessary to generate text.\n",
        "\n",
        "**IMPORTANT NOTE:** If you want to rerun this cell, **restart the VM first** (Runtime -> Restart Runtime). You will need to rerun imports but not recopy files."
      ]
    },
    {
      "cell_type": "code",
      "metadata": {
        "id": "-fxL77nvAMAX",
        "colab": {
          "base_uri": "https://localhost:8080/",
          "height": 619
        },
        "outputId": "dfc946c2-4a6d-4aec-b044-a920d6aca542"
      },
      "source": [
        "sess = gpt2.start_tf_sess()\n",
        "gpt2.load_gpt2(sess, run_name='run4_netflix')"
      ],
      "execution_count": null,
      "outputs": [
        {
          "output_type": "error",
          "ename": "ValueError",
          "evalue": "ignored",
          "traceback": [
            "\u001b[0;31m---------------------------------------------------------------------------\u001b[0m",
            "\u001b[0;31mValueError\u001b[0m                                Traceback (most recent call last)",
            "\u001b[0;32m<ipython-input-23-8de2e7f91746>\u001b[0m in \u001b[0;36m<module>\u001b[0;34m()\u001b[0m\n\u001b[1;32m      1\u001b[0m \u001b[0msess\u001b[0m \u001b[0;34m=\u001b[0m \u001b[0mgpt2\u001b[0m\u001b[0;34m.\u001b[0m\u001b[0mstart_tf_sess\u001b[0m\u001b[0;34m(\u001b[0m\u001b[0;34m)\u001b[0m\u001b[0;34m\u001b[0m\u001b[0;34m\u001b[0m\u001b[0m\n\u001b[0;32m----> 2\u001b[0;31m \u001b[0mgpt2\u001b[0m\u001b[0;34m.\u001b[0m\u001b[0mload_gpt2\u001b[0m\u001b[0;34m(\u001b[0m\u001b[0msess\u001b[0m\u001b[0;34m,\u001b[0m \u001b[0mrun_name\u001b[0m\u001b[0;34m=\u001b[0m\u001b[0;34m'run4_netflix'\u001b[0m\u001b[0;34m)\u001b[0m\u001b[0;34m\u001b[0m\u001b[0;34m\u001b[0m\u001b[0m\n\u001b[0m",
            "\u001b[0;32m/usr/local/lib/python3.6/dist-packages/gpt_2_simple/gpt_2.py\u001b[0m in \u001b[0;36mload_gpt2\u001b[0;34m(sess, run_name, checkpoint_dir, model_name, model_dir, multi_gpu)\u001b[0m\n\u001b[1;32m    387\u001b[0m         \u001b[0mgpus\u001b[0m \u001b[0;34m=\u001b[0m \u001b[0mget_available_gpus\u001b[0m\u001b[0;34m(\u001b[0m\u001b[0;34m)\u001b[0m\u001b[0;34m\u001b[0m\u001b[0;34m\u001b[0m\u001b[0m\n\u001b[1;32m    388\u001b[0m \u001b[0;34m\u001b[0m\u001b[0m\n\u001b[0;32m--> 389\u001b[0;31m     \u001b[0moutput\u001b[0m \u001b[0;34m=\u001b[0m \u001b[0mmodel\u001b[0m\u001b[0;34m.\u001b[0m\u001b[0mmodel\u001b[0m\u001b[0;34m(\u001b[0m\u001b[0mhparams\u001b[0m\u001b[0;34m=\u001b[0m\u001b[0mhparams\u001b[0m\u001b[0;34m,\u001b[0m \u001b[0mX\u001b[0m\u001b[0;34m=\u001b[0m\u001b[0mcontext\u001b[0m\u001b[0;34m,\u001b[0m \u001b[0mgpus\u001b[0m\u001b[0;34m=\u001b[0m\u001b[0mgpus\u001b[0m\u001b[0;34m)\u001b[0m\u001b[0;34m\u001b[0m\u001b[0;34m\u001b[0m\u001b[0m\n\u001b[0m\u001b[1;32m    390\u001b[0m \u001b[0;34m\u001b[0m\u001b[0m\n\u001b[1;32m    391\u001b[0m     \u001b[0mckpt\u001b[0m \u001b[0;34m=\u001b[0m \u001b[0mtf\u001b[0m\u001b[0;34m.\u001b[0m\u001b[0mtrain\u001b[0m\u001b[0;34m.\u001b[0m\u001b[0mlatest_checkpoint\u001b[0m\u001b[0;34m(\u001b[0m\u001b[0mcheckpoint_path\u001b[0m\u001b[0;34m)\u001b[0m\u001b[0;34m\u001b[0m\u001b[0;34m\u001b[0m\u001b[0m\n",
            "\u001b[0;32m/usr/local/lib/python3.6/dist-packages/gpt_2_simple/src/model.py\u001b[0m in \u001b[0;36mmodel\u001b[0;34m(hparams, X, past, scope, gpus, reuse)\u001b[0m\n\u001b[1;32m    181\u001b[0m \u001b[0;34m\u001b[0m\u001b[0m\n\u001b[1;32m    182\u001b[0m         wpe = tf.compat.v1.get_variable('wpe', [hparams.n_ctx, hparams.n_embd],\n\u001b[0;32m--> 183\u001b[0;31m                              initializer=tf.compat.v1.random_normal_initializer(stddev=0.01))\n\u001b[0m\u001b[1;32m    184\u001b[0m         wte = tf.compat.v1.get_variable('wte', [hparams.n_vocab, hparams.n_embd],\n\u001b[1;32m    185\u001b[0m                              initializer=tf.compat.v1.random_normal_initializer(stddev=0.02))\n",
            "\u001b[0;32m/tensorflow-1.15.2/python3.6/tensorflow_core/python/ops/variable_scope.py\u001b[0m in \u001b[0;36mget_variable\u001b[0;34m(name, shape, dtype, initializer, regularizer, trainable, collections, caching_device, partitioner, validate_shape, use_resource, custom_getter, constraint, synchronization, aggregation)\u001b[0m\n\u001b[1;32m   1498\u001b[0m       \u001b[0mconstraint\u001b[0m\u001b[0;34m=\u001b[0m\u001b[0mconstraint\u001b[0m\u001b[0;34m,\u001b[0m\u001b[0;34m\u001b[0m\u001b[0;34m\u001b[0m\u001b[0m\n\u001b[1;32m   1499\u001b[0m       \u001b[0msynchronization\u001b[0m\u001b[0;34m=\u001b[0m\u001b[0msynchronization\u001b[0m\u001b[0;34m,\u001b[0m\u001b[0;34m\u001b[0m\u001b[0;34m\u001b[0m\u001b[0m\n\u001b[0;32m-> 1500\u001b[0;31m       aggregation=aggregation)\n\u001b[0m\u001b[1;32m   1501\u001b[0m \u001b[0;34m\u001b[0m\u001b[0m\n\u001b[1;32m   1502\u001b[0m \u001b[0;34m\u001b[0m\u001b[0m\n",
            "\u001b[0;32m/tensorflow-1.15.2/python3.6/tensorflow_core/python/ops/variable_scope.py\u001b[0m in \u001b[0;36mget_variable\u001b[0;34m(self, var_store, name, shape, dtype, initializer, regularizer, reuse, trainable, collections, caching_device, partitioner, validate_shape, use_resource, custom_getter, constraint, synchronization, aggregation)\u001b[0m\n\u001b[1;32m   1241\u001b[0m           \u001b[0mconstraint\u001b[0m\u001b[0;34m=\u001b[0m\u001b[0mconstraint\u001b[0m\u001b[0;34m,\u001b[0m\u001b[0;34m\u001b[0m\u001b[0;34m\u001b[0m\u001b[0m\n\u001b[1;32m   1242\u001b[0m           \u001b[0msynchronization\u001b[0m\u001b[0;34m=\u001b[0m\u001b[0msynchronization\u001b[0m\u001b[0;34m,\u001b[0m\u001b[0;34m\u001b[0m\u001b[0;34m\u001b[0m\u001b[0m\n\u001b[0;32m-> 1243\u001b[0;31m           aggregation=aggregation)\n\u001b[0m\u001b[1;32m   1244\u001b[0m \u001b[0;34m\u001b[0m\u001b[0m\n\u001b[1;32m   1245\u001b[0m   def _get_partitioned_variable(self,\n",
            "\u001b[0;32m/tensorflow-1.15.2/python3.6/tensorflow_core/python/ops/variable_scope.py\u001b[0m in \u001b[0;36mget_variable\u001b[0;34m(self, name, shape, dtype, initializer, regularizer, reuse, trainable, collections, caching_device, partitioner, validate_shape, use_resource, custom_getter, constraint, synchronization, aggregation)\u001b[0m\n\u001b[1;32m    565\u001b[0m           \u001b[0mconstraint\u001b[0m\u001b[0;34m=\u001b[0m\u001b[0mconstraint\u001b[0m\u001b[0;34m,\u001b[0m\u001b[0;34m\u001b[0m\u001b[0;34m\u001b[0m\u001b[0m\n\u001b[1;32m    566\u001b[0m           \u001b[0msynchronization\u001b[0m\u001b[0;34m=\u001b[0m\u001b[0msynchronization\u001b[0m\u001b[0;34m,\u001b[0m\u001b[0;34m\u001b[0m\u001b[0;34m\u001b[0m\u001b[0m\n\u001b[0;32m--> 567\u001b[0;31m           aggregation=aggregation)\n\u001b[0m\u001b[1;32m    568\u001b[0m \u001b[0;34m\u001b[0m\u001b[0m\n\u001b[1;32m    569\u001b[0m   def _get_partitioned_variable(self,\n",
            "\u001b[0;32m/tensorflow-1.15.2/python3.6/tensorflow_core/python/ops/variable_scope.py\u001b[0m in \u001b[0;36m_true_getter\u001b[0;34m(name, shape, dtype, initializer, regularizer, reuse, trainable, collections, caching_device, partitioner, validate_shape, use_resource, constraint, synchronization, aggregation)\u001b[0m\n\u001b[1;32m    517\u001b[0m           \u001b[0mconstraint\u001b[0m\u001b[0;34m=\u001b[0m\u001b[0mconstraint\u001b[0m\u001b[0;34m,\u001b[0m\u001b[0;34m\u001b[0m\u001b[0;34m\u001b[0m\u001b[0m\n\u001b[1;32m    518\u001b[0m           \u001b[0msynchronization\u001b[0m\u001b[0;34m=\u001b[0m\u001b[0msynchronization\u001b[0m\u001b[0;34m,\u001b[0m\u001b[0;34m\u001b[0m\u001b[0;34m\u001b[0m\u001b[0m\n\u001b[0;32m--> 519\u001b[0;31m           aggregation=aggregation)\n\u001b[0m\u001b[1;32m    520\u001b[0m \u001b[0;34m\u001b[0m\u001b[0m\n\u001b[1;32m    521\u001b[0m     synchronization, aggregation, trainable = (\n",
            "\u001b[0;32m/tensorflow-1.15.2/python3.6/tensorflow_core/python/ops/variable_scope.py\u001b[0m in \u001b[0;36m_get_single_variable\u001b[0;34m(self, name, shape, dtype, initializer, regularizer, partition_info, reuse, trainable, collections, caching_device, validate_shape, use_resource, constraint, synchronization, aggregation)\u001b[0m\n\u001b[1;32m    866\u001b[0m         \u001b[0mtb\u001b[0m \u001b[0;34m=\u001b[0m \u001b[0;34m[\u001b[0m\u001b[0mx\u001b[0m \u001b[0;32mfor\u001b[0m \u001b[0mx\u001b[0m \u001b[0;32min\u001b[0m \u001b[0mtb\u001b[0m \u001b[0;32mif\u001b[0m \u001b[0;34m\"tensorflow/python\"\u001b[0m \u001b[0;32mnot\u001b[0m \u001b[0;32min\u001b[0m \u001b[0mx\u001b[0m\u001b[0;34m[\u001b[0m\u001b[0;36m0\u001b[0m\u001b[0;34m]\u001b[0m\u001b[0;34m]\u001b[0m\u001b[0;34m[\u001b[0m\u001b[0;34m:\u001b[0m\u001b[0;36m5\u001b[0m\u001b[0;34m]\u001b[0m\u001b[0;34m\u001b[0m\u001b[0;34m\u001b[0m\u001b[0m\n\u001b[1;32m    867\u001b[0m         raise ValueError(\"%s Originally defined at:\\n\\n%s\" %\n\u001b[0;32m--> 868\u001b[0;31m                          (err_msg, \"\".join(traceback.format_list(tb))))\n\u001b[0m\u001b[1;32m    869\u001b[0m       \u001b[0mfound_var\u001b[0m \u001b[0;34m=\u001b[0m \u001b[0mself\u001b[0m\u001b[0;34m.\u001b[0m\u001b[0m_vars\u001b[0m\u001b[0;34m[\u001b[0m\u001b[0mname\u001b[0m\u001b[0;34m]\u001b[0m\u001b[0;34m\u001b[0m\u001b[0;34m\u001b[0m\u001b[0m\n\u001b[1;32m    870\u001b[0m       \u001b[0;32mif\u001b[0m \u001b[0;32mnot\u001b[0m \u001b[0mshape\u001b[0m\u001b[0;34m.\u001b[0m\u001b[0mis_compatible_with\u001b[0m\u001b[0;34m(\u001b[0m\u001b[0mfound_var\u001b[0m\u001b[0;34m.\u001b[0m\u001b[0mget_shape\u001b[0m\u001b[0;34m(\u001b[0m\u001b[0;34m)\u001b[0m\u001b[0;34m)\u001b[0m\u001b[0;34m:\u001b[0m\u001b[0;34m\u001b[0m\u001b[0;34m\u001b[0m\u001b[0m\n",
            "\u001b[0;31mValueError\u001b[0m: Variable model/wpe already exists, disallowed. Did you mean to set reuse=True or reuse=tf.AUTO_REUSE in VarScope? Originally defined at:\n\n  File \"/tensorflow-1.15.2/python3.6/tensorflow_core/python/framework/ops.py\", line 1748, in __init__\n    self._traceback = tf_stack.extract_stack()\n  File \"/tensorflow-1.15.2/python3.6/tensorflow_core/python/framework/ops.py\", line 3426, in _create_op_internal\n    op_def=op_def)\n  File \"/tensorflow-1.15.2/python3.6/tensorflow_core/python/framework/ops.py\", line 3357, in create_op\n    attrs, op_def, compute_device)\n  File \"/tensorflow-1.15.2/python3.6/tensorflow_core/python/util/deprecation.py\", line 507, in new_func\n    return func(*args, **kwargs)\n  File \"/tensorflow-1.15.2/python3.6/tensorflow_core/python/framework/op_def_library.py\", line 794, in _apply_op_helper\n    op_def=op_def)\n"
          ]
        }
      ]
    },
    {
      "cell_type": "markdown",
      "metadata": {
        "id": "ClJwpF_ACONp"
      },
      "source": [
        "## Generate Text From The Trained Model\n",
        "\n",
        "After you've trained the model or loaded a retrained model from checkpoint, you can now generate text. `generate` generates a single text from the loaded model."
      ]
    },
    {
      "cell_type": "markdown",
      "metadata": {
        "id": "oF4-PqF0Fl7R"
      },
      "source": [
        "If you're creating an API based on your model and need to pass the generated text elsewhere, you can do `text = gpt2.generate(sess, return_as_list=True)[0]`\n",
        "\n",
        "You can also pass in a `prefix` to the generate function to force the text to start with a given character sequence and generate text from there (good if you add an indicator when the text starts).\n",
        "\n",
        "You can also generate multiple texts at a time by specifing `nsamples`. Unique to GPT-2, you can pass a `batch_size` to generate multiple samples in parallel, giving a massive speedup (in Colaboratory, set a maximum of 20 for `batch_size`).\n",
        "\n",
        "Other optional-but-helpful parameters for `gpt2.generate` and friends:\n",
        "\n",
        "*  **`length`**: Number of tokens to generate (default 1023, the maximum)\n",
        "* **`temperature`**: The higher the temperature, the crazier the text (default 0.7, recommended to keep between 0.7 and 1.0)\n",
        "* **`top_k`**: Limits the generated guesses to the top *k* guesses (default 0 which disables the behavior; if the generated output is super crazy, you may want to set `top_k=40`)\n",
        "* **`top_p`**: Nucleus sampling: limits the generated guesses to a cumulative probability. (gets good results on a dataset with `top_p=0.9`)\n",
        "* **`truncate`**: Truncates the input text until a given sequence, excluding that sequence (e.g. if `truncate='<|endoftext|>'`, the returned text will include everything before the first `<|endoftext|>`). It may be useful to combine this with a smaller `length` if the input texts are short.\n",
        "*  **`include_prefix`**: If using `truncate` and `include_prefix=False`, the specified `prefix` will not be included in the returned text."
      ]
    },
    {
      "cell_type": "code",
      "metadata": {
        "id": "AVfP7vKjhfy9",
        "colab": {
          "base_uri": "https://localhost:8080/"
        },
        "outputId": "91b1109d-93df-4d03-b30b-06ba2d7d1597"
      },
      "source": [
        "count = 1\n",
        "#for i in range(40):\n",
        "\n",
        "netflix_descriptions = gpt2.generate(sess,\n",
        "              run_name = 'run4_netflix',\n",
        "              length = 40,\n",
        "              temperature = 0.9,\n",
        "              nsamples=30,\n",
        "              batch_size=10,\n",
        "              prefix = '<|startoftext|>', \n",
        "              truncate='<|endoftext|>',\n",
        "              return_as_list = True\n",
        "              )\n",
        "\n",
        "for ix, i in enumerate(netflix_descriptions):\n",
        "  print(\"Netflix Plot {}:\".format(ix))\n",
        "  print(i)\n",
        "  print()"
      ],
      "execution_count": null,
      "outputs": [
        {
          "output_type": "stream",
          "text": [
            "Netflix Plot 0:\n",
            "<|startoftext|> While away the holidays, two siblings struggle to cope with the loss of their long-lost mother and the celebrity friends who have come to spend the day with them. \n",
            "\n",
            "Netflix Plot 1:\n",
            "<|startoftext|> An overzealous cop pursues a ruthless hit man who is digging up lucrative contracts for crooked cops. \n",
            "\n",
            "Netflix Plot 2:\n",
            "<|startoftext|> After years of saving money, a girl creates a fake boyfriend to impress her cheating boyfriend. But when the real boyfriend comes home to find her, she must rise to the occasion and save the day.\n",
            "\n",
            "Netflix Plot 3:\n",
            "<|startoftext|> In a major culture war, a young man of mixed Aztec, Mayan and Martian descent instead fights for Tibet, a land of ancient ruins and fearsome demons. \n",
            "\n",
            "Netflix Plot 4:\n",
            "<|startoftext|> Fleeing Germans, gypsies and armed robbers find a grim job in this up-close narrative adapted from a true story. \n",
            "\n",
            "Netflix Plot 5:\n",
            "<|startoftext|> A young man named Kota wakes up in a Japanese town far from home, and finds himself carrying the DNA of his grandmother. \n",
            "\n",
            "Netflix Plot 6:\n",
            "<|startoftext|> In 15th-century Spain, a monk's quest to discover the origins of a mystical amulet leads to a fight with the Pope and a miraculous rebirth. \n",
            "\n",
            "Netflix Plot 7:\n",
            "<|startoftext|> After learning of her husband's infidelities, a women-crusading journalist pursues the truth behind his scandalous past. \n",
            "\n",
            "Netflix Plot 8:\n",
            "<|startoftext|> As the world's population explodes, a scientist helps a female patient regain fertility after a risky procedure – but unforeseen complications soon crop up. \n",
            "\n",
            "Netflix Plot 9:\n",
            "<|startoftext|> A young musician goes on the road, enlisting help from an agent with experience and deep ties to the Soviet secret police. \n",
            "\n",
            "Netflix Plot 10:\n",
            "<|startoftext|> When the police discover a beautiful woman has been abducted, they go to all-out adventure to find her. \n",
            "\n",
            "Netflix Plot 11:\n",
            "<|startoftext|> Hired by a London lawyer to take on a case involving a young Chinese model, a detective starts to wonder whether her client is telling the truth. \n",
            "\n",
            "Netflix Plot 12:\n",
            "<|startoftext|> When an enterprising 17-year-old loses his mother and sister, he builds a girlie mansion and travels the country with his best friend to meet them. \n",
            "\n",
            "Netflix Plot 13:\n",
            "<|startoftext|> A Moscow-based artist pens a story about a man who becomes loner with a tough exterior who must re-join the human community to recover his lost love. \n",
            "\n",
            "Netflix Plot 14:\n",
            "<|startoftext|> An elderly man who must borrow money to support his family is diagnosed with Multiple Sclerosis. But how can this man live without money? \n",
            "\n",
            "Netflix Plot 15:\n",
            "<|startoftext|> With her single, untimely death, a woman confronts the challenges of being a single mother amid a toxic, multi-billion dollar suburb. \n",
            "\n",
            "Netflix Plot 16:\n",
            "<|startoftext|> The wild tales told by the Aguilgars vary widely, but most point to a violent confluence between the Aztec and Inca confederates that resulted in the Incan Conquest in 1492\n",
            "\n",
            "Netflix Plot 17:\n",
            "<|startoftext|> A young man faces a troubling memory after his dog bites him on the arm. But when strangers knock on his door, he must hide his canine side to keep them from bringing their own animals into the\n",
            "\n",
            "Netflix Plot 18:\n",
            "<|startoftext|> Researching the love lives of the great virgins reveals shocking truths about infidelity in the West and the importance of holy matrimony to both men and women. \n",
            "\n",
            "Netflix Plot 19:\n",
            "<|startoftext|> A publicist for an aspiring independent filmmaker teams with a small-town cop to protect him from a crooked seedy agent. \n",
            "\n",
            "Netflix Plot 20:\n",
            "<|startoftext|> A gifted but volatile young entrepreneur sets his sights on dominating his lonely, hooded neighbor – and the world – with a high-pressure sales pitch. \n",
            "\n",
            "Netflix Plot 21:\n",
            "<|startoftext|> The adventures of 11-year-old Wyatt and his fundamentalist family take an alarming turn when he's sent to live with an aunt and uncle in the countryside. \n",
            "\n",
            "Netflix Plot 22:\n",
            "<|startoftext|> A young man leads a near-displaced family in their attempt to return to their old hometown, only to be burned to the ground by a demon while protecting its weakling ruler. <|end\n",
            "\n",
            "Netflix Plot 23:\n",
            "<|startoftext|> A Palestinian man returns home to find that his elderly father is a fake and has been framed for a crime that never happened. \n",
            "\n",
            "Netflix Plot 24:\n",
            "<|startoftext|> With a Hollywood West story arc and a romantic comedy, buddies Kevin James and Jason Bateman dish on being gay in the '80s and staying married in the '90s. <|endof\n",
            "\n",
            "Netflix Plot 25:\n",
            "<|startoftext|> During the summer months, the town of Wandering Nimbus is on edge as bats and rats terrorize the inhabitants. But an unlikely hero – a small-town schoolteacher with an uncanny ability\n",
            "\n",
            "Netflix Plot 26:\n",
            "<|startoftext|> After a fall, a woman's memories unexpectedly emerge, and she's forced to make hard choices about her own future. \n",
            "\n",
            "Netflix Plot 27:\n",
            "<|startoftext|> Following a harrowing car accident, a man wakes up in his mother's home, where he's caught between his pride as the son of a family of car dealers and the pain he feels for questioning tradition\n",
            "\n",
            "Netflix Plot 28:\n",
            "<|startoftext|> A family deep in debt and spending the holidays in the wilderness, will they be able to pull it off? \n",
            "\n",
            "Netflix Plot 29:\n",
            "<|startoftext|> When a boy from a tough background inherits a giant egg, he and his friends race to get to the top of it – but it's not easy using only their wits. <|end\n",
            "\n"
          ],
          "name": "stdout"
        }
      ]
    },
    {
      "cell_type": "markdown",
      "metadata": {
        "id": "zjjEN2Tafhl2"
      },
      "source": [
        ")For bulk generation, you can generate a large amount of text to a file and sort out the samples locally on your computer. The next cell will generate a generated text file with a unique timestamp.\n",
        "\n",
        "You can rerun the cells as many times as you want for even more generated texts!"
      ]
    },
    {
      "cell_type": "code",
      "metadata": {
        "id": "Fa6p6arifSL0"
      },
      "source": [
        "gen_file = 'gpt2_gentext_{:%Y%m%d_%H%M%S}.txt'.format(datetime.utcnow())\n",
        "\n",
        "gpt2.generate_to_file(sess,\n",
        "                      destination_path=gen_file,\n",
        "                      length=500,\n",
        "                      temperature=0.7,\n",
        "                      nsamples=100,\n",
        "                      batch_size=20\n",
        "                      )"
      ],
      "execution_count": null,
      "outputs": []
    },
    {
      "cell_type": "code",
      "metadata": {
        "id": "0-LRex8lfv1g"
      },
      "source": [
        "# may have to run twice to get file to download\n",
        "files.download(gen_file)"
      ],
      "execution_count": null,
      "outputs": []
    },
    {
      "cell_type": "code",
      "metadata": {
        "colab": {
          "base_uri": "https://localhost:8080/"
        },
        "id": "4ecczHEOlRVH",
        "outputId": "0b7e6d4e-65c7-4caf-8ab7-8ebbfbb2441c"
      },
      "source": [
        "!zip -r /content/file.zip /content/Download"
      ],
      "execution_count": null,
      "outputs": [
        {
          "output_type": "stream",
          "text": [
            "  adding: content/Download/ (stored 0%)\n",
            "  adding: content/Download/samples/ (stored 0%)\n",
            "  adding: content/Download/samples/run4_netflix/ (stored 0%)\n",
            "  adding: content/Download/samples/run4_netflix/samples-1401 (deflated 56%)\n",
            "  adding: content/Download/samples/run4_netflix/samples-601 (deflated 58%)\n",
            "  adding: content/Download/samples/run4_netflix/samples-401 (deflated 58%)\n",
            "  adding: content/Download/samples/run4_netflix/samples-1001 (deflated 58%)\n",
            "  adding: content/Download/samples/run4_netflix/samples-1201 (deflated 56%)\n",
            "  adding: content/Download/samples/run4_netflix/samples-201 (deflated 51%)\n",
            "  adding: content/Download/samples/run4_netflix/samples-801 (deflated 52%)\n",
            "  adding: content/Download/models/ (stored 0%)\n",
            "  adding: content/Download/models/355M/ (stored 0%)\n",
            "  adding: content/Download/models/355M/encoder.json (deflated 67%)\n",
            "  adding: content/Download/models/355M/hparams.json (deflated 33%)\n",
            "  adding: content/Download/models/355M/model.ckpt.data-00000-of-00001 (deflated 7%)\n",
            "  adding: content/Download/models/355M/model.ckpt.index (deflated 66%)\n",
            "  adding: content/Download/models/355M/model.ckpt.meta (deflated 91%)\n",
            "  adding: content/Download/models/355M/vocab.bpe (deflated 53%)\n",
            "  adding: content/Download/models/355M/checkpoint (deflated 42%)\n",
            "  adding: content/Download/sample_data/ (stored 0%)\n",
            "  adding: content/Download/sample_data/california_housing_test.csv (deflated 76%)\n",
            "  adding: content/Download/sample_data/mnist_train_small.csv (deflated 88%)\n",
            "  adding: content/Download/sample_data/README.md (deflated 42%)\n",
            "  adding: content/Download/sample_data/mnist_test.csv (deflated 88%)\n",
            "  adding: content/Download/sample_data/anscombe.json (deflated 83%)\n",
            "  adding: content/Download/sample_data/california_housing_train.csv (deflated 79%)\n",
            "  adding: content/Download/checkpoint/ (stored 0%)\n",
            "  adding: content/Download/checkpoint/run4_netflix/ (stored 0%)\n",
            "  adding: content/Download/checkpoint/run4_netflix/model-1500.data-00000-of-00001 (deflated 7%)\n",
            "  adding: content/Download/checkpoint/run4_netflix/encoder.json (deflated 67%)\n",
            "  adding: content/Download/checkpoint/run4_netflix/hparams.json (deflated 33%)\n",
            "  adding: content/Download/checkpoint/run4_netflix/events.out.tfevents.1609865063.3492b64e0068 (deflated 62%)\n",
            "  adding: content/Download/checkpoint/run4_netflix/model-1500.index (deflated 66%)\n",
            "  adding: content/Download/checkpoint/run4_netflix/counter (stored 0%)\n",
            "  adding: content/Download/checkpoint/run4_netflix/vocab.bpe (deflated 53%)\n",
            "  adding: content/Download/checkpoint/run4_netflix/checkpoint (deflated 40%)\n",
            "  adding: content/Download/checkpoint/run4_netflix/model-1500.meta (deflated 92%)\n"
          ],
          "name": "stdout"
        }
      ]
    },
    {
      "cell_type": "markdown",
      "metadata": {
        "id": "ig-KVgkCDCKD"
      },
      "source": [
        "# Etcetera\n",
        "\n",
        "If the notebook has errors (e.g. GPU Sync Fail), force-kill the Colaboratory virtual machine and restart it with the command below:"
      ]
    },
    {
      "cell_type": "code",
      "metadata": {
        "id": "rIHiVP53FnsX"
      },
      "source": [
        "!kill -9 -1"
      ],
      "execution_count": null,
      "outputs": []
    },
    {
      "cell_type": "markdown",
      "metadata": {
        "id": "wmTXWNUygS5E"
      },
      "source": [
        "# LICENSE\n",
        "\n",
        "MIT License\n",
        "\n",
        "Copyright (c) 2019 Max Woolf\n",
        "\n",
        "Permission is hereby granted, free of charge, to any person obtaining a copy\n",
        "of this software and associated documentation files (the \"Software\"), to deal\n",
        "in the Software without restriction, including without limitation the rights\n",
        "to use, copy, modify, merge, publish, distribute, sublicense, and/or sell\n",
        "copies of the Software, and to permit persons to whom the Software is\n",
        "furnished to do so, subject to the following conditions:\n",
        "\n",
        "The above copyright notice and this permission notice shall be included in all\n",
        "copies or substantial portions of the Software.\n",
        "\n",
        "THE SOFTWARE IS PROVIDED \"AS IS\", WITHOUT WARRANTY OF ANY KIND, EXPRESS OR\n",
        "IMPLIED, INCLUDING BUT NOT LIMITED TO THE WARRANTIES OF MERCHANTABILITY,\n",
        "FITNESS FOR A PARTICULAR PURPOSE AND NONINFRINGEMENT. IN NO EVENT SHALL THE\n",
        "AUTHORS OR COPYRIGHT HOLDERS BE LIABLE FOR ANY CLAIM, DAMAGES OR OTHER\n",
        "LIABILITY, WHETHER IN AN ACTION OF CONTRACT, TORT OR OTHERWISE, ARISING FROM,\n",
        "OUT OF OR IN CONNECTION WITH THE SOFTWARE OR THE USE OR OTHER DEALINGS IN THE\n",
        "SOFTWARE."
      ]
    }
  ]
}